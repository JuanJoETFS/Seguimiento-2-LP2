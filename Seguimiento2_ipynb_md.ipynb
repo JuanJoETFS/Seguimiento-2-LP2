{
  "cells": [
    {
      "cell_type": "markdown",
      "metadata": {
        "id": "WPyS73UCR1Sq"
      },
      "source": [
        "# Introducción a Colas (Queues) en Python\n",
        "\n",
        "Una **cola** es una estructura de datos que sigue el principio **FIFO** (First-In, First-Out), donde el primer elemento en entrar es el primero en salir. Es similar a una fila de personas en un banco."
      ]
    },
    {
      "cell_type": "markdown",
      "metadata": {
        "id": "GqYYfriHR1Ss"
      },
      "source": [
        "## 1. Creación de una Cola\n",
        "\n",
        "Podemos implementar una cola usando una lista en Python, aunque no es la forma más eficiente. Veremos alternativas más adelante."
      ]
    },
    {
      "cell_type": "code",
      "execution_count": null,
      "metadata": {
        "id": "Qup9TOLCR1Su"
      },
      "outputs": [],
      "source": [
        "# Crear una cola vacía\n",
        "cola = []\n",
        "print(\"Cola vacía creada:\", cola)"
      ]
    },
    {
      "cell_type": "markdown",
      "metadata": {
        "id": "WFxMb01nR1Sv"
      },
      "source": [
        "## 2. Encolar (Agregar elementos)\n",
        "\n",
        "La operación **encolar** agrega elementos al final de la cola."
      ]
    },
    {
      "cell_type": "code",
      "execution_count": null,
      "metadata": {
        "id": "RSczcDUTR1Sw"
      },
      "outputs": [],
      "source": [
        "# Encolar elementos\n",
        "cola.append(\"Elemento 1\")\n",
        "cola.append(\"Elemento 2\")\n",
        "cola.append(\"Elemento 3\")\n",
        "print(\"Cola después de encolar:\", cola)"
      ]
    },
    {
      "cell_type": "markdown",
      "metadata": {
        "id": "knRn70eSR1Sz"
      },
      "source": [
        "## 3. Desencolar (Remover elementos)\n",
        "\n",
        "La operación **desencolar** remueve el elemento al frente de la cola (el primer elemento)."
      ]
    },
    {
      "cell_type": "code",
      "execution_count": null,
      "metadata": {
        "id": "sOqeV8t8R1S0"
      },
      "outputs": [],
      "source": [
        "# Desencolar el primer elemento\n",
        "elemento_removido = cola.pop(0)\n",
        "print(\"Elemento desencolado:\", elemento_removido)\n",
        "print(\"Cola actualizada:\", cola)"
      ]
    },
    {
      "cell_type": "markdown",
      "metadata": {
        "id": "mlMRD6H9R1S1"
      },
      "source": [
        "## 4. Verificar si la cola está vacía\n",
        "\n",
        "Podemos verificar si una cola está vacía usando la función `len()` o comparando con una lista vacía."
      ]
    },
    {
      "cell_type": "code",
      "execution_count": null,
      "metadata": {
        "id": "ffROZDV6R1S2"
      },
      "outputs": [],
      "source": [
        "# Verificar si la cola está vacía\n",
        "if not cola:\n",
        "    print(\"La cola está vacía\")\n",
        "else:\n",
        "    print(\"La cola NO está vacía\")\n",
        "\n",
        "# Alternativa con len()\n",
        "print(\"¿Está vacía?\", len(cola) == 0)"
      ]
    },
    {
      "cell_type": "markdown",
      "metadata": {
        "id": "rrWsxh3yR1S3"
      },
      "source": [
        "## 5. Obtener el tamaño de la cola\n",
        "\n",
        "Usamos `len()` para obtener el número de elementos en la cola."
      ]
    },
    {
      "cell_type": "code",
      "execution_count": null,
      "metadata": {
        "id": "8IadecBtR1S4"
      },
      "outputs": [],
      "source": [
        "# Obtener tamaño de la cola\n",
        "print(\"Tamaño de la cola:\", len(cola))"
      ]
    },
    {
      "cell_type": "markdown",
      "metadata": {
        "id": "D2phME8UR1S4"
      },
      "source": [
        "## 6. Acceder al frente de la cola\n",
        "\n",
        "Podemos acceder al primer elemento (frente) sin removerlo usando el índice `[0]`."
      ]
    },
    {
      "cell_type": "code",
      "execution_count": null,
      "metadata": {
        "id": "MqMNYe0cR1S5"
      },
      "outputs": [],
      "source": [
        "# Acceder al frente de la cola\n",
        "if cola:\n",
        "    print(\"Frente de la cola:\", cola[0])\n",
        "else:\n",
        "    print(\"La cola está vacía\")"
      ]
    },
    {
      "cell_type": "markdown",
      "metadata": {
        "id": "k6Ryk5EpR1S5"
      },
      "source": [
        "## 7. Recorrer una cola\n",
        "\n",
        "Podemos iterar sobre todos los elementos de la cola usando un bucle."
      ]
    },
    {
      "cell_type": "code",
      "execution_count": null,
      "metadata": {
        "id": "OqHMZAL9R1S5"
      },
      "outputs": [],
      "source": [
        "# Recorrer la cola\n",
        "print(\"Elementos en la cola:\")\n",
        "for elemento in cola:\n",
        "    print(elemento)"
      ]
    },
    {
      "cell_type": "markdown",
      "metadata": {
        "id": "fVbt9mLGR1S5"
      },
      "source": [
        "## 8. Implementación con `collections.deque` (Recomendado)\n",
        "\n",
        "La implementación con listas tiene un problema: `pop(0)` es O(n). La alternativa eficiente es usar `deque` del módulo `collections`."
      ]
    },
    {
      "cell_type": "code",
      "execution_count": null,
      "metadata": {
        "id": "UfQdim6JR1S6"
      },
      "outputs": [],
      "source": [
        "from collections import deque\n",
        "\n",
        "# Crear cola con deque\n",
        "cola_eficiente = deque()\n",
        "\n",
        "# Encolar (O(1))\n",
        "cola_eficiente.append(\"A\")\n",
        "cola_eficiente.append(\"B\")\n",
        "cola_eficiente.append(\"C\")\n",
        "print(\"Cola con deque:\", cola_eficiente)\n",
        "\n",
        "# Desencolar (O(1))\n",
        "elemento = cola_eficiente.popleft()\n",
        "print(\"Elemento desencolado:\", elemento)\n",
        "print(\"Cola actualizada:\", cola_eficiente)"
      ]
    },
    {
      "cell_type": "markdown",
      "metadata": {
        "id": "IruLmVLwR1S6"
      },
      "source": [
        "## 9. Ejemplo práctico: Sistema de turnos\n",
        "\n",
        "Simulemos un sistema de atención a clientes usando una cola."
      ]
    },
    {
      "cell_type": "code",
      "execution_count": null,
      "metadata": {
        "id": "ykKsvIlmR1S6"
      },
      "outputs": [],
      "source": [
        "from collections import deque\n",
        "import time\n",
        "\n",
        "def sistema_de_turnos():\n",
        "    turnos = deque([\"Cliente 1\", \"Cliente 2\", \"Cliente 3\", \"Cliente 4\"])\n",
        "\n",
        "    while turnos:\n",
        "        cliente = turnos.popleft()\n",
        "        print(f\"Atendiendo a {cliente}...\")\n",
        "        time.sleep(1)  # Simular tiempo de atención\n",
        "        print(f\"{cliente} ha sido atendido\\n\")\n",
        "\n",
        "    print(\"¡Todos los clientes han sido atendidos!\")\n",
        "\n",
        "# Ejecutar simulación\n",
        "sistema_de_turnos()"
      ]
    },
    {
      "cell_type": "markdown",
      "metadata": {
        "id": "3d42LUHNR1S7"
      },
      "source": [
        "## 10. Ventajas y desventajas de las colas\n",
        "\n",
        "**Ventajas:**\n",
        "- Orden FIFO garantizado\n",
        "- Operaciones de encolado/desencolado eficientes (especialmente con deque)\n",
        "- Simplicidad conceptual\n",
        "\n",
        "**Desventajas:**\n",
        "- Acceso limitado (solo al frente y final)\n",
        "- No permite búsqueda eficiente\n",
        "- Con listas: desencolar es O(n)"
      ]
    },
    {
      "cell_type": "markdown",
      "metadata": {
        "id": "pD_1r9lGR1S7"
      },
      "source": [
        "## Conclusión\n",
        "\n",
        "Las colas son estructuras fundamentales en programación para manejar elementos en orden FIFO. Para implementaciones eficientes en Python, siempre preferir `collections.deque` sobre listas nativas. Son ampliamente utilizadas en algoritmos de búsqueda (BFS), sistemas de colas de impresión, manejo de tareas y simulaciones."
      ]
    }
  ],
  "metadata": {
    "kernelspec": {
      "display_name": "Python 3",
      "language": "python",
      "name": "python3"
    },
    "language_info": {
      "codemirror_mode": {
        "name": "ipython",
        "version": 3
      },
      "file_extension": ".py",
      "mimetype": "text/x-python",
      "name": "python",
      "nbconvert_exporter": "python",
      "pygments_lexer": "ipython3",
      "version": "3.8.5"
    },
    "colab": {
      "provenance": []
    }
  },
  "nbformat": 4,
  "nbformat_minor": 0
}